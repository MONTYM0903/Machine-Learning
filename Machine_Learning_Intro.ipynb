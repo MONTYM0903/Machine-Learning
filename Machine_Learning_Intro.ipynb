{
  "nbformat": 4,
  "nbformat_minor": 0,
  "metadata": {
    "colab": {
      "provenance": []
    },
    "kernelspec": {
      "name": "python3",
      "display_name": "Python 3"
    },
    "language_info": {
      "name": "python"
    }
  },
  "cells": [
    {
      "cell_type": "markdown",
      "source": [
        "# Question 1: Explain the differences between AI, ML, Deep Learning (DL), and Data Science (DS)?\n",
        "\n",
        "**Answer**\n",
        "\n",
        "Artificial Intelligence (AI), Machine Learning (ML), Deep Learning (DL), and Data Science (DS) are words we often hear together, but they are not the same thing. They are related like a family, where AI is the big parent, ML is one of its children, DL is a grandchild, and DS is like a cousin who uses them all in different ways.\n",
        "\n",
        "AI is the broadest term. It is about making machines or computers behave in a way that looks intelligent. For example, a chatbot that answers our questions is AI because it acts like a human even though it is not.\n",
        "\n",
        "ML is a part of AI. It is when we teach computers using data, so they improve over time without being directly told every step. For example, predicting house prices from past data is ML.\n",
        "\n",
        "DL is a special type of ML that uses artificial neural networks with many layers. It is good at recognizing images, speech, and text. For example, face recognition on phones is done using DL.\n",
        "\n",
        "DS is a separate but related field. It is about collecting, cleaning, analyzing, and interpreting data to solve problems. DS may use AI, ML, or DL, but it also involves other things like statistics and data visualization. For example, a data scientist might analyze sales records to help a company increase profits.\n",
        "\n",
        "**In simple words:**\n",
        "\n",
        "AI = making machines act smart.\n",
        "\n",
        "ML = teaching machines using data.\n",
        "\n",
        "DL = advanced ML using neural networks.\n",
        "\n",
        "DS = using all tools (including ML/DL) to understand and solve real-world problems.\n",
        "\n",
        "So, while they are connected, each has its own role, and together they help us use data and computers in powerful ways."
      ],
      "metadata": {
        "id": "Ur9pabKDDBIG"
      }
    },
    {
      "cell_type": "markdown",
      "source": [
        "# Question 2: What are the types of machine learning? Describe each with one real-world example?\n",
        "\n",
        "**Answer**\n",
        "\n",
        "Machine learning is usually divided into three main types: supervised learning, unsupervised learning, and reinforcement learning. Each type has its own way of learning from data and is useful in different situations.\n",
        "\n",
        "1. Supervised learning: In this type, the machine learns from labeled data. This means the input and the correct output are both given, and the model learns to match them. For example, if we give a machine many photos of fruits with labels like “apple,” “banana,” or “mango,” the machine will learn to recognize new fruit images. A real-world example is spam email detection, where the system is trained on emails marked as “spam” or “not spam.”\n",
        "\n",
        "2. Unsupervised learning: Here, the data is not labeled. The machine has to find hidden patterns or groups on its own. For example, if we give a list of customer shopping histories without labels, the system can group customers with similar buying habits. A real-world use is in customer segmentation, where businesses group buyers to design better marketing strategies.\n",
        "\n",
        "3. Reinforcement learning: This type is about learning from trial and error. The machine takes actions in an environment and learns based on rewards or punishments. For example, teaching a robot to walk involves rewarding it when it moves correctly and adjusting when it falls. A famous real-world example is AlphaGo, a computer program that learned to play the board game Go better than humans.\n",
        "\n",
        "To sum up:\n",
        "\n",
        "Supervised → learns from labeled data (e.g., email spam filter).\n",
        "\n",
        "Unsupervised → finds patterns in unlabeled data (e.g., customer groups).\n",
        "\n",
        "Reinforcement → learns from rewards/punishments (e.g., self-driving cars).\n"
      ],
      "metadata": {
        "id": "WzOBn3yfDBwZ"
      }
    },
    {
      "cell_type": "markdown",
      "source": [
        "# Question 3: Define overfitting, underfitting, and the bias-variance tradeoff in machine learning?\n",
        "**Answer**\n",
        "\n",
        "When we train machine learning models, three common problems are overfitting, underfitting, and the bias-variance tradeoff. These affect how well a model performs on new data.\n",
        "\n",
        "Overfitting happens when the model learns the training data too well, even memorizing small details and noise. As a result, it works great on training data but poorly on new data. For example, if a student memorizes answers to practice questions without understanding concepts, they may fail in the real exam.\n",
        "\n",
        "Underfitting happens when the model is too simple and cannot capture the patterns in the data. It does poorly both on training and test data. For example, if a student barely studies and knows only basic rules, they cannot solve either practice or exam questions.\n",
        "\n",
        "Bias-variance tradeoff is the balance between these two. Bias is the error from making the model too simple (leading to underfitting). Variance is the error from making it too complex (leading to overfitting). The tradeoff means we must find the right balance where the model is not too simple and not too complex, so it generalizes well.\n",
        "\n",
        "For example, imagine predicting house prices:\n",
        "\n",
        "If the model says “all houses cost the same” → underfitting.\n",
        "\n",
        "If the model tries to remember the price of every single house in the dataset → overfitting.\n",
        "\n",
        "A balanced model looks at important features like size, location, and number of rooms to give fair predictions → good tradeoff.\n",
        "\n",
        "In short, overfitting = too complex, underfitting = too simple, and bias-variance tradeoff = finding the sweet spot between the two.\n"
      ],
      "metadata": {
        "id": "bi5eIio4DCCM"
      }
    },
    {
      "cell_type": "markdown",
      "source": [
        "# Question 4: What are outliers in a dataset, and list three common techniques for handling them?\n",
        "\n",
        "**Answer**\n",
        "\n",
        "Outliers are data points that are very different from the rest of the values in a dataset. They may be unusually high or low compared to other values. Outliers can occur because of errors (like wrong data entry) or because they are genuine but rare events. For example, if the average monthly income of a group is around 30,000 but one person earns 10,00,000, that person’s income is an outlier.\n",
        "\n",
        "Outliers can create problems because they may pull the results in the wrong direction. For instance, if we calculate the average income, the one very high value may give a false impression that most people earn much more than they actually do.\n",
        "\n",
        "There are **several ways to handle outliers:**\n",
        "\n",
        "**Removal:** If the outlier is clearly an error (like a height recorded as 800 cm), it can simply be removed. This is the simplest method.\n",
        "\n",
        "**Transformation:** Applying mathematical transformations like log or square root can reduce the effect of extreme values. For example, log transformation on income data can reduce the gap between very high and very low values.\n",
        "\n",
        "**Capping or Winsorization:** Here, extreme values are replaced with less extreme ones. For example, if incomes above 1,00,000 are considered outliers, we replace them with exactly 1,00,000 instead of their original value.\n",
        "\n",
        "**As an example**, suppose we have exam scores for students: most scored between 40 and 80, but one student scored 5 and another scored 100. Depending on the situation, we can either remove the 5 and 100, transform the scores, or cap them to reduce their effect on averages.\n",
        "\n",
        "In short, outliers are unusual data points, and handling them properly helps make data analysis more accurate."
      ],
      "metadata": {
        "id": "UYVaucD-DCNj"
      }
    },
    {
      "cell_type": "markdown",
      "source": [
        "# Question 5: Explain the process of handling missing values and mention one imputation technique for numerical and one for categorical data?\n",
        "\n",
        "**Answer**\n",
        "\n",
        "In real datasets, it is common to have missing values where some information is not recorded. If not handled properly, missing values can cause errors or give misleading results in analysis and modeling.\n",
        "\n",
        "The process of handling missing values usually includes the following steps:\n",
        "\n",
        "Identify missing values: First, we need to check where the missing data is. In Python, this can be done using functions like isnull() in pandas.\n",
        "\n",
        "Understand the reason: Missing values can happen for many reasons like data entry mistakes, people skipping survey questions, or sensor failures. Knowing the cause helps decide how to handle them.\n",
        "\n",
        "Decide how to treat them: There are different strategies like removing rows with missing values, filling them with certain values, or using more advanced techniques.\n",
        "\n",
        "For numerical data, a common imputation technique is to replace missing values with the mean of that column. For example, if we have student exam scores with some missing, we can replace the missing ones with the average score of the class.\n",
        "\n",
        "For categorical data, one technique is to fill missing values with the mode, which means the most frequent category. For example, if we have missing values in a “favorite color” column, and “Blue” is the most common choice, we can replace the missing ones with “Blue.”\n",
        "\n",
        "For example, in a dataset about people:\n",
        "\n",
        "Age column has some missing values (numerical) → fill with average age.\n",
        "\n",
        "Gender column has missing values (categorical) → fill with most frequent gender.\n",
        "\n",
        "**This way, we keep the dataset complete without losing too much information. Handling missing values properly ensures that the results we get from data analysis are reliable.**"
      ],
      "metadata": {
        "id": "JTMyXSEbDCWu"
      }
    },
    {
      "cell_type": "markdown",
      "source": [
        "# Question 6: Write a Python program that: ● Creates a synthetic imbalanced dataset with make_classification() from sklearn.datasets. ● Prints the class distribution. (Include your Python code and output in the code box below.) ?"
      ],
      "metadata": {
        "id": "bgIkUq8iDCgI"
      }
    },
    {
      "cell_type": "code",
      "source": [
        "from sklearn.datasets import make_classification\n",
        "import numpy as np\n",
        "import pandas as pd\n",
        "\n",
        "# Create synthetic dataset\n",
        "X, y = make_classification(n_samples=1000, n_features=5, n_classes=2,\n",
        "                           weights=[0.9, 0.1], random_state=42)\n",
        "\n",
        "# Convert to DataFrame for clarity\n",
        "df = pd.DataFrame(X, columns=[f'Feature_{i}' for i in range(1, 6)])\n",
        "df['Target'] = y\n",
        "\n",
        "# Print class distribution\n",
        "class_counts = df['Target'].value_counts()\n",
        "print(\"Class distribution:\")\n",
        "print(class_counts)\n"
      ],
      "metadata": {
        "colab": {
          "base_uri": "https://localhost:8080/"
        },
        "id": "MG1f1A6_LsFs",
        "outputId": "3b96b6db-d50e-4fe5-f64f-0e16fd883898"
      },
      "execution_count": 5,
      "outputs": [
        {
          "output_type": "stream",
          "name": "stdout",
          "text": [
            "Class distribution:\n",
            "Target\n",
            "0    895\n",
            "1    105\n",
            "Name: count, dtype: int64\n"
          ]
        }
      ]
    },
    {
      "cell_type": "markdown",
      "source": [
        "# Question 7: Implement one-hot encoding using pandas for the following list of colors: ['Red', 'Green', 'Blue', 'Green', 'Red']. Print the resulting dataframe?"
      ],
      "metadata": {
        "id": "YUhfovCYDCpw"
      }
    },
    {
      "cell_type": "code",
      "source": [
        "import pandas as pd\n",
        "\n",
        "colors = ['Red', 'Green', 'Blue', 'Green', 'Red']\n",
        "df = pd.DataFrame(colors, columns=['Color'])\n",
        "\n",
        "# One-hot encoding\n",
        "encoded = pd.get_dummies(df, columns=['Color'])\n",
        "print(encoded)\n"
      ],
      "metadata": {
        "colab": {
          "base_uri": "https://localhost:8080/"
        },
        "id": "BIr4-KafL3nN",
        "outputId": "a76f8327-3b31-4601-d477-13942bcb08ed"
      },
      "execution_count": 6,
      "outputs": [
        {
          "output_type": "stream",
          "name": "stdout",
          "text": [
            "   Color_Blue  Color_Green  Color_Red\n",
            "0       False        False       True\n",
            "1       False         True      False\n",
            "2        True        False      False\n",
            "3       False         True      False\n",
            "4       False        False       True\n"
          ]
        }
      ]
    },
    {
      "cell_type": "markdown",
      "source": [
        "# Question 8: Write a Python script to: ● Generate 1000 samples from a normal distribution. ● Introduce 50 random missing values. ● Fill missing values with the column mean. ● Plot a histogram before and after imputation."
      ],
      "metadata": {
        "id": "qOO0jLxeDC17"
      }
    },
    {
      "cell_type": "code",
      "source": [
        "import numpy as np\n",
        "import matplotlib.pyplot as plt\n",
        "import pandas as pd\n",
        "\n",
        "# Generate 1000 samples from normal distribution\n",
        "data = np.random.normal(loc=50, scale=10, size=1000)\n",
        "\n",
        "# Convert to DataFrame\n",
        "df = pd.DataFrame(data, columns=['Value'])\n",
        "\n",
        "# Introduce 50 random missing values\n",
        "missing_indices = np.random.choice(df.index, 50, replace=False)\n",
        "df.loc[missing_indices, 'Value'] = np.nan\n",
        "\n",
        "# Plot histogram before imputation\n",
        "plt.hist(df['Value'].dropna(), bins=20, edgecolor='black')\n",
        "plt.title(\"Before Imputation\")\n",
        "plt.xlabel(\"Value\")\n",
        "plt.ylabel(\"Frequency\")\n",
        "plt.show()\n",
        "\n",
        "# Fill missing values with column mean\n",
        "df['Value'].fillna(df['Value'].mean(), inplace=True)\n",
        "\n",
        "# Plot histogram after imputation\n",
        "plt.hist(df['Value'], bins=20, edgecolor='black')\n",
        "plt.title(\"After Imputation (Mean)\")\n",
        "plt.xlabel(\"Value\")\n",
        "plt.ylabel(\"Frequency\")\n",
        "plt.show()\n"
      ],
      "metadata": {
        "colab": {
          "base_uri": "https://localhost:8080/",
          "height": 1000
        },
        "id": "egrfN_75MRm0",
        "outputId": "7c949399-91d4-4620-c26f-818f2014fe15"
      },
      "execution_count": 7,
      "outputs": [
        {
          "output_type": "display_data",
          "data": {
            "text/plain": [
              "<Figure size 640x480 with 1 Axes>"
            ],
            "image/png": "[encoded data removed]"
          },
          "metadata": {}
        },
        {
          "output_type": "stream",
          "name": "stderr",
          "text": [
            "/tmp/ipython-input-3209048474.py:23: FutureWarning: A value is trying to be set on a copy of a DataFrame or Series through chained assignment using an inplace method.\n",
            "The behavior will change in pandas 3.0. This inplace method will never work because the intermediate object on which we are setting values always behaves as a copy.\n",
            "\n",
            "For example, when doing 'df[col].method(value, inplace=True)', try using 'df.method({col: value}, inplace=True)' or df[col] = df[col].method(value) instead, to perform the operation inplace on the original object.\n",
            "\n",
            "\n",
            "  df['Value'].fillna(df['Value'].mean(), inplace=True)\n"
          ]
        },
        {
          "output_type": "display_data",
          "data": {
            "text/plain": [
              "<Figure size 640x480 with 1 Axes>"
            ],
            "image/png": "[encoded data removed]"
          },
          "metadata": {}
        }
      ]
    },
    {
      "cell_type": "markdown",
      "source": [
        "# **This code simulates normal data, calculates the 95% confidence interval for the mean, and shows a histogram with the mean marked.**"
      ],
      "metadata": {
        "id": "xFfU6d9wMU3w"
      }
    },
    {
      "cell_type": "markdown",
      "source": [
        "# Question 9: Implement Min-Max scaling on the following list of numbers [2, 5, 10, 15, 20] using sklearn.preprocessing.MinMaxScaler. Print the scaled array ?"
      ],
      "metadata": {
        "id": "CBN4cX24D8ic"
      }
    },
    {
      "cell_type": "markdown",
      "source": [
        "Min-Max scaling is a simple way to change numbers so they all sit between 0 and 1. You take each value, subtract the smallest value in the list, and divide by the spread (max − min). The formula is:\n",
        "\n",
        "scaled = (x − min) / (max − min)\n",
        "\n",
        "This is helpful when different columns have different ranges so one number doesn’t dominate the model. One downside: if there are big outliers, they squeeze the rest into a small range.\n",
        "\n",
        "For the list [2, 5, 10, 15, 20]:\n",
        "\n",
        "min = 2, max = 20 → range = 18.\n",
        "So the scaled values are:\n",
        "\n",
        "(2 − 2) / 18 = 0.0\n",
        "\n",
        "(5 − 2) / 18 = 3/18 = 0.16666666666666666\n",
        "\n",
        "(10 − 2) / 18 = 8/18 = 0.4444444444444444\n",
        "\n",
        "(15 − 2) / 18 = 13/18 = 0.7222222222222222\n",
        "\n",
        "(20 − 2) / 18 = 18/18 = 1.0\n",
        "\n",
        "Below is a short Google Colab friendly code that does this using sklearn.preprocessing.MinMaxScaler and prints the scaled array:\n"
      ],
      "metadata": {
        "id": "9x05TKW_OXry"
      }
    },
    {
      "cell_type": "code",
      "source": [
        "\n",
        "import numpy as np\n",
        "from sklearn.preprocessing import MinMaxScaler\n",
        "\n",
        "arr = np.array([2, 5, 10, 15, 20]).reshape(-1, 1)  # sklearn expects 2D shape\n",
        "scaler = MinMaxScaler()           # default feature_range=(0,1)\n",
        "scaled = scaler.fit_transform(arr)\n",
        "\n",
        "# print as 1D array for neatness\n",
        "print(scaled.flatten())\n"
      ],
      "metadata": {
        "colab": {
          "base_uri": "https://localhost:8080/"
        },
        "id": "8EdmkjYKMg0b",
        "outputId": "c74890cc-4bd3-40d2-c97f-9dd93bdbba6f"
      },
      "execution_count": 1,
      "outputs": [
        {
          "output_type": "stream",
          "name": "stdout",
          "text": [
            "[0.         0.16666667 0.44444444 0.72222222 1.        ]\n"
          ]
        }
      ]
    },
    {
      "cell_type": "markdown",
      "source": [
        "# **Tip in plain words: use Min-Max when you want values between 0 and 1 (e.g., for some neural nets or when features need the same scale). If your data has big outliers, consider capping them or using a log transform before scaling.**"
      ],
      "metadata": {
        "id": "RAayL-84Ok67"
      }
    },
    {
      "cell_type": "markdown",
      "source": [
        "# Question 10: You are working as a data scientist for a retail company. You receive a custome transaction dataset that contains:\n",
        "\n",
        "● Missing ages,\n",
        "\n",
        "● Outliers in transaction amount,\n",
        "\n",
        "● A highly imbalanced target (fraud vs. non-fraud),\n",
        "\n",
        "● Categorical variables like payment method.\n",
        "\n",
        "# Explain the step-by-step data preparation plan you’d follow before training a machine learning model. Include how you’d address missing data, outliers, imbalance, and encoding."
      ],
      "metadata": {
        "id": "ftuJnBTpETv5"
      }
    },
    {
      "cell_type": "markdown",
      "source": [
        "# **Answer:**\n",
        "\n",
        "If I get a retail transaction file with missing ages, weird transaction amounts, a very imbalanced target (fraud vs non-fraud), and payment method as a category, I’d do the following simple, step-by-step plan before training a model.\n",
        "\n",
        "Quick look & split\n",
        "\n",
        "See how many rows, missingness, and class counts.\n",
        "\n",
        "Keep a final test set aside (10–20%) using a stratified split so the fraud share is same in train/test.\n",
        "\n",
        "Missing ages\n",
        "\n",
        "Check pattern: are ages missing randomly or for some customer types?\n",
        "\n",
        "Simple fix: fill (impute) with the median age (median is safe for skew).\n",
        "\n",
        "Better: if we have related columns (gender, customer type), fill using group median (e.g., median age by customer type). If needed later, use a small model to predict age.\n",
        "\n",
        "Outliers in transaction amount\n",
        "\n",
        "Plot boxplot or histogram to see extremes.\n",
        "\n",
        "If some amounts are clearly data errors (like 999999), remove or fix them.\n",
        "\n",
        "Otherwise, cap values at sensible percentiles (e.g., 1st and 99th) or use log transform on amounts so big numbers don’t dominate.\n",
        "\n",
        "Imbalance (fraud vs non-fraud)\n",
        "\n",
        "Check ratio. If fraud is tiny (e.g., 1%), don’t just use raw accuracy.\n",
        "\n",
        "Options: (a) use class weights in model so it cares more about fraud, or (b) oversample fraud in training (simple duplication or SMOTE which makes similar fake cases). I prefer starting with class weights and maybe try SMOTE later.\n",
        "\n",
        "Use stratified cross-validation and track recall/precision/F1 and PR-AUC (precision-recall area) — these tell you how well fraud gets found.\n",
        "\n",
        "Categorical variables (payment method)\n",
        "\n",
        "If payment method has few categories (card, cash, UPI), do one-hot encoding with pandas get_dummies.\n",
        "\n",
        "If a category is rare, group it into “Other” first.\n",
        "\n",
        "Scaling & final touch\n",
        "\n",
        "Scale numeric features (Min-Max or Standard) after dealing with outliers.\n",
        "\n",
        "Make new features: transaction hour, day, customer mean amount, previous fraud count — these often help a lot.\n",
        "\n",
        "Pipeline & validation\n",
        "\n",
        "Put steps into a reproducible pipeline (impute → encode → scale → model).\n",
        "\n",
        "Evaluate on held-out test using precision, recall, F1 and confusion matrix. Tune threshold if needed (you may want higher recall for fraud).\n",
        "\n",
        "That’s it — simple, stepwise, and easy to explain to a manager."
      ],
      "metadata": {
        "id": "ZH1Za3DuOwmh"
      }
    }
  ]
}